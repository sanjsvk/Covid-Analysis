{
  "nbformat": 4,
  "nbformat_minor": 0,
  "metadata": {
    "colab": {
      "name": "covid.ipynb",
      "provenance": [],
      "collapsed_sections": [],
      "mount_file_id": "1Q6-3V7L56rA4ll6n5psNGhmSAOFfkd_d",
      "authorship_tag": "ABX9TyN4g/A8Frs9BolxBorOsDdS",
      "include_colab_link": true
    },
    "kernelspec": {
      "name": "python3",
      "display_name": "Python 3"
    }
  },
  "cells": [
    {
      "cell_type": "markdown",
      "metadata": {
        "id": "view-in-github",
        "colab_type": "text"
      },
      "source": [
        "<a href=\"https://colab.research.google.com/github/sanjsvk/covid-analysis/blob/main/covid.ipynb\" target=\"_parent\"><img src=\"https://colab.research.google.com/assets/colab-badge.svg\" alt=\"Open In Colab\"/></a>"
      ]
    },
    {
      "cell_type": "code",
      "metadata": {
        "id": "YadhIB7RL-nQ"
      },
      "source": [
        "import numpy as np\n",
        "import pandas as pd\n",
        "import matplotlib.pyplot as plt\n",
        "import warnings\n",
        "%matplotlib inline"
      ],
      "execution_count": 1,
      "outputs": []
    },
    {
      "cell_type": "code",
      "metadata": {
        "id": "P4Ro3iZ9MZ3i"
      },
      "source": [
        "line_list_data = pd.read_csv('/content/drive/My Drive/archive/COVID19_line_list_data.csv')\n",
        "line_list_data = line_list_data.drop(['Unnamed: 3','Unnamed: 21','Unnamed: 22','Unnamed: 23','Unnamed: 24','Unnamed: 25','Unnamed: 26'], axis =1)\n",
        "open_line_list = pd.read_csv('/content/drive/My Drive/archive/COVID19_open_line_list.csv')\n",
        "open_line_list = open_line_list.drop(['Unnamed: 33','Unnamed: 34','Unnamed: 35','Unnamed: 36','Unnamed: 37','Unnamed: 38','Unnamed: 39','Unnamed: 40','Unnamed: 41','Unnamed: 42','Unnamed: 43','Unnamed: 44'],axis = 1)\n",
        "covid_data = pd.read_csv('/content/drive/My Drive/archive/covid_19_data.csv')"
      ],
      "execution_count": 25,
      "outputs": []
    },
    {
      "cell_type": "code",
      "metadata": {
        "id": "MmiNdTuDxy94",
        "outputId": "8a8fb28a-976e-47f0-a496-96415d7eb3d1",
        "colab": {
          "base_uri": "https://localhost:8080/",
          "height": 206
        }
      },
      "source": [
        "covid_data.head()"
      ],
      "execution_count": 26,
      "outputs": [
        {
          "output_type": "execute_result",
          "data": {
            "text/html": [
              "<div>\n",
              "<style scoped>\n",
              "    .dataframe tbody tr th:only-of-type {\n",
              "        vertical-align: middle;\n",
              "    }\n",
              "\n",
              "    .dataframe tbody tr th {\n",
              "        vertical-align: top;\n",
              "    }\n",
              "\n",
              "    .dataframe thead th {\n",
              "        text-align: right;\n",
              "    }\n",
              "</style>\n",
              "<table border=\"1\" class=\"dataframe\">\n",
              "  <thead>\n",
              "    <tr style=\"text-align: right;\">\n",
              "      <th></th>\n",
              "      <th>SNo</th>\n",
              "      <th>ObservationDate</th>\n",
              "      <th>Province/State</th>\n",
              "      <th>Country/Region</th>\n",
              "      <th>Last Update</th>\n",
              "      <th>Confirmed</th>\n",
              "      <th>Deaths</th>\n",
              "      <th>Recovered</th>\n",
              "    </tr>\n",
              "  </thead>\n",
              "  <tbody>\n",
              "    <tr>\n",
              "      <th>0</th>\n",
              "      <td>1</td>\n",
              "      <td>01/22/2020</td>\n",
              "      <td>Anhui</td>\n",
              "      <td>Mainland China</td>\n",
              "      <td>1/22/2020 17:00</td>\n",
              "      <td>1.0</td>\n",
              "      <td>0.0</td>\n",
              "      <td>0.0</td>\n",
              "    </tr>\n",
              "    <tr>\n",
              "      <th>1</th>\n",
              "      <td>2</td>\n",
              "      <td>01/22/2020</td>\n",
              "      <td>Beijing</td>\n",
              "      <td>Mainland China</td>\n",
              "      <td>1/22/2020 17:00</td>\n",
              "      <td>14.0</td>\n",
              "      <td>0.0</td>\n",
              "      <td>0.0</td>\n",
              "    </tr>\n",
              "    <tr>\n",
              "      <th>2</th>\n",
              "      <td>3</td>\n",
              "      <td>01/22/2020</td>\n",
              "      <td>Chongqing</td>\n",
              "      <td>Mainland China</td>\n",
              "      <td>1/22/2020 17:00</td>\n",
              "      <td>6.0</td>\n",
              "      <td>0.0</td>\n",
              "      <td>0.0</td>\n",
              "    </tr>\n",
              "    <tr>\n",
              "      <th>3</th>\n",
              "      <td>4</td>\n",
              "      <td>01/22/2020</td>\n",
              "      <td>Fujian</td>\n",
              "      <td>Mainland China</td>\n",
              "      <td>1/22/2020 17:00</td>\n",
              "      <td>1.0</td>\n",
              "      <td>0.0</td>\n",
              "      <td>0.0</td>\n",
              "    </tr>\n",
              "    <tr>\n",
              "      <th>4</th>\n",
              "      <td>5</td>\n",
              "      <td>01/22/2020</td>\n",
              "      <td>Gansu</td>\n",
              "      <td>Mainland China</td>\n",
              "      <td>1/22/2020 17:00</td>\n",
              "      <td>0.0</td>\n",
              "      <td>0.0</td>\n",
              "      <td>0.0</td>\n",
              "    </tr>\n",
              "  </tbody>\n",
              "</table>\n",
              "</div>"
            ],
            "text/plain": [
              "   SNo ObservationDate Province/State  ... Confirmed Deaths  Recovered\n",
              "0    1      01/22/2020          Anhui  ...       1.0    0.0        0.0\n",
              "1    2      01/22/2020        Beijing  ...      14.0    0.0        0.0\n",
              "2    3      01/22/2020      Chongqing  ...       6.0    0.0        0.0\n",
              "3    4      01/22/2020         Fujian  ...       1.0    0.0        0.0\n",
              "4    5      01/22/2020          Gansu  ...       0.0    0.0        0.0\n",
              "\n",
              "[5 rows x 8 columns]"
            ]
          },
          "metadata": {
            "tags": []
          },
          "execution_count": 26
        }
      ]
    },
    {
      "cell_type": "markdown",
      "metadata": {
        "id": "j-m7aLc3CjQc"
      },
      "source": [
        "Using data-set - covid_data\n",
        "\n",
        "Contains data from 22nd Jan, 2020 to 23rd Sept, *2020*\n",
        "\n"
      ]
    },
    {
      "cell_type": "code",
      "metadata": {
        "id": "9wT85Kc_MmKH",
        "outputId": "8026541a-166f-4918-b007-9f166bed8bf4",
        "colab": {
          "base_uri": "https://localhost:8080/"
        }
      },
      "source": [
        "print(\"Total data length - {} \\n\".format(len(covid_data)))\n",
        "covid_data.dtypes"
      ],
      "execution_count": 3,
      "outputs": [
        {
          "output_type": "stream",
          "text": [
            "Total data length - 116805 \n",
            "\n"
          ],
          "name": "stdout"
        },
        {
          "output_type": "execute_result",
          "data": {
            "text/plain": [
              "SNo                  int64\n",
              "ObservationDate     object\n",
              "Province/State      object\n",
              "Country/Region      object\n",
              "Last Update         object\n",
              "Confirmed          float64\n",
              "Deaths             float64\n",
              "Recovered          float64\n",
              "dtype: object"
            ]
          },
          "metadata": {
            "tags": []
          },
          "execution_count": 3
        }
      ]
    },
    {
      "cell_type": "code",
      "metadata": {
        "id": "G9r7-duPMyS9",
        "outputId": "dfb23637-03be-492a-e072-73618ec79668",
        "colab": {
          "base_uri": "https://localhost:8080/",
          "height": 300
        }
      },
      "source": [
        "covid_data.describe()"
      ],
      "execution_count": 4,
      "outputs": [
        {
          "output_type": "execute_result",
          "data": {
            "text/html": [
              "<div>\n",
              "<style scoped>\n",
              "    .dataframe tbody tr th:only-of-type {\n",
              "        vertical-align: middle;\n",
              "    }\n",
              "\n",
              "    .dataframe tbody tr th {\n",
              "        vertical-align: top;\n",
              "    }\n",
              "\n",
              "    .dataframe thead th {\n",
              "        text-align: right;\n",
              "    }\n",
              "</style>\n",
              "<table border=\"1\" class=\"dataframe\">\n",
              "  <thead>\n",
              "    <tr style=\"text-align: right;\">\n",
              "      <th></th>\n",
              "      <th>SNo</th>\n",
              "      <th>Confirmed</th>\n",
              "      <th>Deaths</th>\n",
              "      <th>Recovered</th>\n",
              "    </tr>\n",
              "  </thead>\n",
              "  <tbody>\n",
              "    <tr>\n",
              "      <th>count</th>\n",
              "      <td>116805.000000</td>\n",
              "      <td>1.168050e+05</td>\n",
              "      <td>116805.000000</td>\n",
              "      <td>1.168050e+05</td>\n",
              "    </tr>\n",
              "    <tr>\n",
              "      <th>mean</th>\n",
              "      <td>58403.000000</td>\n",
              "      <td>1.908217e+04</td>\n",
              "      <td>777.745473</td>\n",
              "      <td>1.117002e+04</td>\n",
              "    </tr>\n",
              "    <tr>\n",
              "      <th>std</th>\n",
              "      <td>33718.843434</td>\n",
              "      <td>5.825465e+04</td>\n",
              "      <td>2859.184068</td>\n",
              "      <td>6.258701e+04</td>\n",
              "    </tr>\n",
              "    <tr>\n",
              "      <th>min</th>\n",
              "      <td>1.000000</td>\n",
              "      <td>0.000000e+00</td>\n",
              "      <td>0.000000</td>\n",
              "      <td>0.000000e+00</td>\n",
              "    </tr>\n",
              "    <tr>\n",
              "      <th>25%</th>\n",
              "      <td>29202.000000</td>\n",
              "      <td>2.450000e+02</td>\n",
              "      <td>3.000000</td>\n",
              "      <td>4.000000e+00</td>\n",
              "    </tr>\n",
              "    <tr>\n",
              "      <th>50%</th>\n",
              "      <td>58403.000000</td>\n",
              "      <td>2.148000e+03</td>\n",
              "      <td>42.000000</td>\n",
              "      <td>4.260000e+02</td>\n",
              "    </tr>\n",
              "    <tr>\n",
              "      <th>75%</th>\n",
              "      <td>87604.000000</td>\n",
              "      <td>1.037400e+04</td>\n",
              "      <td>331.000000</td>\n",
              "      <td>3.829000e+03</td>\n",
              "    </tr>\n",
              "    <tr>\n",
              "      <th>max</th>\n",
              "      <td>116805.000000</td>\n",
              "      <td>1.242770e+06</td>\n",
              "      <td>42072.000000</td>\n",
              "      <td>2.670256e+06</td>\n",
              "    </tr>\n",
              "  </tbody>\n",
              "</table>\n",
              "</div>"
            ],
            "text/plain": [
              "                 SNo     Confirmed         Deaths     Recovered\n",
              "count  116805.000000  1.168050e+05  116805.000000  1.168050e+05\n",
              "mean    58403.000000  1.908217e+04     777.745473  1.117002e+04\n",
              "std     33718.843434  5.825465e+04    2859.184068  6.258701e+04\n",
              "min         1.000000  0.000000e+00       0.000000  0.000000e+00\n",
              "25%     29202.000000  2.450000e+02       3.000000  4.000000e+00\n",
              "50%     58403.000000  2.148000e+03      42.000000  4.260000e+02\n",
              "75%     87604.000000  1.037400e+04     331.000000  3.829000e+03\n",
              "max    116805.000000  1.242770e+06   42072.000000  2.670256e+06"
            ]
          },
          "metadata": {
            "tags": []
          },
          "execution_count": 4
        }
      ]
    },
    {
      "cell_type": "markdown",
      "metadata": {
        "id": "1aYUiwoeCvt3"
      },
      "source": [
        "Null Values"
      ]
    },
    {
      "cell_type": "code",
      "metadata": {
        "id": "_h1mgfbiOerA",
        "outputId": "6b4f25a7-4a74-452c-80d2-e8de5120485f",
        "colab": {
          "base_uri": "https://localhost:8080/"
        }
      },
      "source": [
        "print(\"Missing values\")\n",
        "print(covid_data.isnull().sum())\n",
        "print(\"\\nProvince/State has {}% missing values\".format(np.round((count[2]/len(covid_data))*100,2)))"
      ],
      "execution_count": 31,
      "outputs": [
        {
          "output_type": "stream",
          "text": [
            "Missing values\n",
            "SNo                    0\n",
            "ObservationDate        0\n",
            "Province/State     35353\n",
            "Country/Region         0\n",
            "Last Update            0\n",
            "Confirmed              0\n",
            "Deaths                 0\n",
            "Recovered              0\n",
            "dtype: int64\n",
            "\n",
            "Province/State has 30.27% missing values\n"
          ],
          "name": "stdout"
        }
      ]
    },
    {
      "cell_type": "markdown",
      "metadata": {
        "id": "RYO5vP8YC4Ii"
      },
      "source": [
        "Cases per day"
      ]
    },
    {
      "cell_type": "code",
      "metadata": {
        "id": "L8Nv72EJTE-f",
        "outputId": "bf3e6953-e441-4a69-b470-274d2c4501da",
        "colab": {
          "base_uri": "https://localhost:8080/",
          "height": 536
        }
      },
      "source": [
        "per_day = covid_data[['ObservationDate','Confirmed','Deaths','Recovered']]\n",
        "numbers = per_day.groupby('ObservationDate').sum()\n",
        "print(numbers)\n",
        "plt.plot(covid_data['ObservationDate'].unique(),numbers['Confirmed'])\n",
        "plt.plot(covid_data['ObservationDate'].unique(),numbers['Deaths'])\n",
        "plt.plot(covid_data['ObservationDate'].unique(),numbers['Recovered'])\n",
        "plt.legend(numbers)\n",
        "plt.show()\n",
        "\n",
        "warnings.filterwarnings(\"ignore\")"
      ],
      "execution_count": 6,
      "outputs": [
        {
          "output_type": "stream",
          "text": [
            "                  Confirmed    Deaths   Recovered\n",
            "ObservationDate                                  \n",
            "01/22/2020            555.0      17.0        28.0\n",
            "01/23/2020            653.0      18.0        30.0\n",
            "01/24/2020            941.0      26.0        36.0\n",
            "01/25/2020           1438.0      42.0        39.0\n",
            "01/26/2020           2118.0      56.0        52.0\n",
            "...                     ...       ...         ...\n",
            "09/19/2020       30688150.0  955866.0  20922189.0\n",
            "09/20/2020       30935011.0  959565.0  21159459.0\n",
            "09/21/2020       31245797.0  963693.0  21394593.0\n",
            "09/22/2020       31517087.0  969578.0  21624434.0\n",
            "09/23/2020       31779835.0  975104.0  21890442.0\n",
            "\n",
            "[246 rows x 3 columns]\n"
          ],
          "name": "stdout"
        },
        {
          "output_type": "display_data",
          "data": {
            "image/png": "[encoded data removed]",
            "text/plain": [
              "<Figure size 432x288 with 1 Axes>"
            ]
          },
          "metadata": {
            "tags": [],
            "needs_background": "light"
          }
        }
      ]
    },
    {
      "cell_type": "markdown",
      "metadata": {
        "id": "GrCjeW9pDWad"
      },
      "source": [
        "Cases aggregated by country"
      ]
    },
    {
      "cell_type": "code",
      "metadata": {
        "id": "CEzxIsUXO-wG",
        "outputId": "da482e82-0c1f-4c33-8f28-ec760cd2c1b1",
        "colab": {
          "base_uri": "https://localhost:8080/",
          "height": 206
        }
      },
      "source": [
        "country_wise = covid_data.groupby('Country/Region').sum()\n",
        "country_wise = country_wise.drop('SNo',axis =1)\n",
        "country_wise = country_wise.sort_values('Confirmed', ascending=False)\n",
        "country_wise = country_wise.reset_index()\n",
        "\n",
        "country_wise.head()"
      ],
      "execution_count": 7,
      "outputs": [
        {
          "output_type": "execute_result",
          "data": {
            "text/html": [
              "<div>\n",
              "<style scoped>\n",
              "    .dataframe tbody tr th:only-of-type {\n",
              "        vertical-align: middle;\n",
              "    }\n",
              "\n",
              "    .dataframe tbody tr th {\n",
              "        vertical-align: top;\n",
              "    }\n",
              "\n",
              "    .dataframe thead th {\n",
              "        text-align: right;\n",
              "    }\n",
              "</style>\n",
              "<table border=\"1\" class=\"dataframe\">\n",
              "  <thead>\n",
              "    <tr style=\"text-align: right;\">\n",
              "      <th></th>\n",
              "      <th>Country/Region</th>\n",
              "      <th>Confirmed</th>\n",
              "      <th>Deaths</th>\n",
              "      <th>Recovered</th>\n",
              "    </tr>\n",
              "  </thead>\n",
              "  <tbody>\n",
              "    <tr>\n",
              "      <th>0</th>\n",
              "      <td>US</td>\n",
              "      <td>557588267.0</td>\n",
              "      <td>21189260.0</td>\n",
              "      <td>174911575.0</td>\n",
              "    </tr>\n",
              "    <tr>\n",
              "      <th>1</th>\n",
              "      <td>Brazil</td>\n",
              "      <td>301632363.0</td>\n",
              "      <td>10657805.0</td>\n",
              "      <td>230105907.0</td>\n",
              "    </tr>\n",
              "    <tr>\n",
              "      <th>2</th>\n",
              "      <td>India</td>\n",
              "      <td>238342983.0</td>\n",
              "      <td>4630497.0</td>\n",
              "      <td>173210742.0</td>\n",
              "    </tr>\n",
              "    <tr>\n",
              "      <th>3</th>\n",
              "      <td>Russia</td>\n",
              "      <td>101499236.0</td>\n",
              "      <td>1582441.0</td>\n",
              "      <td>70205110.0</td>\n",
              "    </tr>\n",
              "    <tr>\n",
              "      <th>4</th>\n",
              "      <td>Peru</td>\n",
              "      <td>53724353.0</td>\n",
              "      <td>2184904.0</td>\n",
              "      <td>35921289.0</td>\n",
              "    </tr>\n",
              "  </tbody>\n",
              "</table>\n",
              "</div>"
            ],
            "text/plain": [
              "  Country/Region    Confirmed      Deaths    Recovered\n",
              "0             US  557588267.0  21189260.0  174911575.0\n",
              "1         Brazil  301632363.0  10657805.0  230105907.0\n",
              "2          India  238342983.0   4630497.0  173210742.0\n",
              "3         Russia  101499236.0   1582441.0   70205110.0\n",
              "4           Peru   53724353.0   2184904.0   35921289.0"
            ]
          },
          "metadata": {
            "tags": []
          },
          "execution_count": 7
        }
      ]
    },
    {
      "cell_type": "markdown",
      "metadata": {
        "id": "nPRfXaFlDcpH"
      },
      "source": [
        "Appending rate of increase to the data"
      ]
    },
    {
      "cell_type": "code",
      "metadata": {
        "id": "zb1O-LcDRlx2",
        "outputId": "33e4653f-5199-4768-d1e1-02519cad3708",
        "colab": {
          "base_uri": "https://localhost:8080/",
          "height": 206
        }
      },
      "source": [
        "Ratio_of_Cases = []\n",
        "Death_rate = []\n",
        "Recovery_rate = []\n",
        "\n",
        "for i in range(len(country_wise)):\n",
        "  Ratio_of_Cases.append(np.round(country_wise['Confirmed'][i]/country_wise['Confirmed'].sum()*100,2))\n",
        "  Death_rate.append(np.round(country_wise['Deaths'][i]/country_wise['Confirmed'][i]*100,2))\n",
        "  Recovery_rate.append(np.round(country_wise['Recovered'][i]/country_wise['Confirmed'][i]*100,2))\n",
        "\n",
        "#Add rates to the DataFrame\n",
        "country_wise['Ratio_of_Cases'] = Ratio_of_Cases\n",
        "country_wise['Death_rate'] = Death_rate\n",
        "country_wise['Recovery_rate'] = Recovery_rate\n",
        "country_wise.head()"
      ],
      "execution_count": 8,
      "outputs": [
        {
          "output_type": "execute_result",
          "data": {
            "text/html": [
              "<div>\n",
              "<style scoped>\n",
              "    .dataframe tbody tr th:only-of-type {\n",
              "        vertical-align: middle;\n",
              "    }\n",
              "\n",
              "    .dataframe tbody tr th {\n",
              "        vertical-align: top;\n",
              "    }\n",
              "\n",
              "    .dataframe thead th {\n",
              "        text-align: right;\n",
              "    }\n",
              "</style>\n",
              "<table border=\"1\" class=\"dataframe\">\n",
              "  <thead>\n",
              "    <tr style=\"text-align: right;\">\n",
              "      <th></th>\n",
              "      <th>Country/Region</th>\n",
              "      <th>Confirmed</th>\n",
              "      <th>Deaths</th>\n",
              "      <th>Recovered</th>\n",
              "      <th>Ratio_of_Cases</th>\n",
              "      <th>Death_rate</th>\n",
              "      <th>Recovery_rate</th>\n",
              "    </tr>\n",
              "  </thead>\n",
              "  <tbody>\n",
              "    <tr>\n",
              "      <th>0</th>\n",
              "      <td>US</td>\n",
              "      <td>557588267.0</td>\n",
              "      <td>21189260.0</td>\n",
              "      <td>174911575.0</td>\n",
              "      <td>25.02</td>\n",
              "      <td>3.80</td>\n",
              "      <td>31.37</td>\n",
              "    </tr>\n",
              "    <tr>\n",
              "      <th>1</th>\n",
              "      <td>Brazil</td>\n",
              "      <td>301632363.0</td>\n",
              "      <td>10657805.0</td>\n",
              "      <td>230105907.0</td>\n",
              "      <td>13.53</td>\n",
              "      <td>3.53</td>\n",
              "      <td>76.29</td>\n",
              "    </tr>\n",
              "    <tr>\n",
              "      <th>2</th>\n",
              "      <td>India</td>\n",
              "      <td>238342983.0</td>\n",
              "      <td>4630497.0</td>\n",
              "      <td>173210742.0</td>\n",
              "      <td>10.69</td>\n",
              "      <td>1.94</td>\n",
              "      <td>72.67</td>\n",
              "    </tr>\n",
              "    <tr>\n",
              "      <th>3</th>\n",
              "      <td>Russia</td>\n",
              "      <td>101499236.0</td>\n",
              "      <td>1582441.0</td>\n",
              "      <td>70205110.0</td>\n",
              "      <td>4.55</td>\n",
              "      <td>1.56</td>\n",
              "      <td>69.17</td>\n",
              "    </tr>\n",
              "    <tr>\n",
              "      <th>4</th>\n",
              "      <td>Peru</td>\n",
              "      <td>53724353.0</td>\n",
              "      <td>2184904.0</td>\n",
              "      <td>35921289.0</td>\n",
              "      <td>2.41</td>\n",
              "      <td>4.07</td>\n",
              "      <td>66.86</td>\n",
              "    </tr>\n",
              "  </tbody>\n",
              "</table>\n",
              "</div>"
            ],
            "text/plain": [
              "  Country/Region    Confirmed  ...  Death_rate  Recovery_rate\n",
              "0             US  557588267.0  ...        3.80          31.37\n",
              "1         Brazil  301632363.0  ...        3.53          76.29\n",
              "2          India  238342983.0  ...        1.94          72.67\n",
              "3         Russia  101499236.0  ...        1.56          69.17\n",
              "4           Peru   53724353.0  ...        4.07          66.86\n",
              "\n",
              "[5 rows x 7 columns]"
            ]
          },
          "metadata": {
            "tags": []
          },
          "execution_count": 8
        }
      ]
    },
    {
      "cell_type": "markdown",
      "metadata": {
        "id": "h_MRoOTdG9N6"
      },
      "source": [
        "#Top 5 countries"
      ]
    },
    {
      "cell_type": "markdown",
      "metadata": {
        "id": "aTC0oonZy4NZ"
      },
      "source": [
        "Top 5 countries by cases registered"
      ]
    },
    {
      "cell_type": "code",
      "metadata": {
        "id": "9yw5N5H-y7Yr",
        "outputId": "b6d42cbb-4b09-432e-ff21-a0978163e279",
        "colab": {
          "base_uri": "https://localhost:8080/",
          "height": 281
        }
      },
      "source": [
        "top_confirmed = country_wise.sort_values('Confirmed', ascending=False).head()\n",
        "x = top_confirmed['Country/Region']\n",
        "y = top_confirmed['Confirmed']\n",
        "plt.bar(x,y)\n",
        "plt.title('Highest confirmed cases')\n",
        "\n",
        "warnings.filterwarnings(\"ignore\")"
      ],
      "execution_count": 9,
      "outputs": [
        {
          "output_type": "display_data",
          "data": {
            "image/png": "[encoded data removed]",
            "text/plain": [
              "<Figure size 432x288 with 1 Axes>"
            ]
          },
          "metadata": {
            "tags": [],
            "needs_background": "light"
          }
        }
      ]
    },
    {
      "cell_type": "markdown",
      "metadata": {
        "id": "V53czsv9ySlI"
      },
      "source": [
        "Top 5 countries by death rate"
      ]
    },
    {
      "cell_type": "code",
      "metadata": {
        "id": "zcMlZwsNHAde",
        "outputId": "ac660027-c15d-439d-cfe6-d511717580f5",
        "colab": {
          "base_uri": "https://localhost:8080/",
          "height": 281
        }
      },
      "source": [
        "top_deathrate = country_wise.sort_values('Death_rate', ascending=False).head()\n",
        "x = top_deathrate['Country/Region']\n",
        "y = top_deathrate['Death_rate']\n",
        "plt.bar(x,y)\n",
        "for a,b in zip(x, y): \n",
        "    plt.text(a, b, str(b),horizontalalignment='center')\n",
        "plt.title('Highest Death Rates')\n",
        "\n",
        "warnings.filterwarnings(\"ignore\")"
      ],
      "execution_count": 10,
      "outputs": [
        {
          "output_type": "display_data",
          "data": {
            "image/png": "[encoded data removed]",
            "text/plain": [
              "<Figure size 432x288 with 1 Axes>"
            ]
          },
          "metadata": {
            "tags": [],
            "needs_background": "light"
          }
        }
      ]
    },
    {
      "cell_type": "markdown",
      "metadata": {
        "id": "t5ES24McyYFR"
      },
      "source": [
        "Top 5 countries by recovery rate"
      ]
    },
    {
      "cell_type": "code",
      "metadata": {
        "id": "57cHqhZ-HN34",
        "outputId": "ee731c80-b40b-460c-e19f-8452e0aefd1f",
        "colab": {
          "base_uri": "https://localhost:8080/",
          "height": 281
        }
      },
      "source": [
        "top_recoveryrate = country_wise.sort_values('Recovery_rate', ascending=False).head()\n",
        "x = top_recoveryrate['Country/Region']\n",
        "y = top_recoveryrate['Recovery_rate']\n",
        "plt.plot(x,y)\n",
        "for a,b in zip(x, y): \n",
        "    plt.text(a, b, str(b),horizontalalignment='center')\n",
        "plt.title('Highest recovery Rates')\n",
        "\n",
        "warnings.filterwarnings(\"ignore\")"
      ],
      "execution_count": 11,
      "outputs": [
        {
          "output_type": "display_data",
          "data": {
            "image/png": "[encoded data removed]",
            "text/plain": [
              "<Figure size 432x288 with 1 Axes>"
            ]
          },
          "metadata": {
            "tags": [],
            "needs_background": "light"
          }
        }
      ]
    },
    {
      "cell_type": "markdown",
      "metadata": {
        "id": "uN65mJa405pd"
      },
      "source": [
        "---"
      ]
    },
    {
      "cell_type": "markdown",
      "metadata": {
        "id": "3oZ5ArcwyzAH"
      },
      "source": [
        "Using line_list_data"
      ]
    },
    {
      "cell_type": "code",
      "metadata": {
        "id": "ohAnml0n0-Nq"
      },
      "source": [
        "#line_list_data.isnull().sum()"
      ],
      "execution_count": 74,
      "outputs": []
    },
    {
      "cell_type": "code",
      "metadata": {
        "id": "rmMgg6TsvWov",
        "outputId": "67cda90d-dfe8-4576-dee0-8303db1681fc",
        "colab": {
          "base_uri": "https://localhost:8080/",
          "height": 440
        }
      },
      "source": [
        "line_list_data.head(3)"
      ],
      "execution_count": 75,
      "outputs": [
        {
          "output_type": "execute_result",
          "data": {
            "text/html": [
              "<div>\n",
              "<style scoped>\n",
              "    .dataframe tbody tr th:only-of-type {\n",
              "        vertical-align: middle;\n",
              "    }\n",
              "\n",
              "    .dataframe tbody tr th {\n",
              "        vertical-align: top;\n",
              "    }\n",
              "\n",
              "    .dataframe thead th {\n",
              "        text-align: right;\n",
              "    }\n",
              "</style>\n",
              "<table border=\"1\" class=\"dataframe\">\n",
              "  <thead>\n",
              "    <tr style=\"text-align: right;\">\n",
              "      <th></th>\n",
              "      <th>id</th>\n",
              "      <th>case_in_country</th>\n",
              "      <th>reporting date</th>\n",
              "      <th>summary</th>\n",
              "      <th>location</th>\n",
              "      <th>country</th>\n",
              "      <th>gender</th>\n",
              "      <th>age</th>\n",
              "      <th>symptom_onset</th>\n",
              "      <th>If_onset_approximated</th>\n",
              "      <th>hosp_visit_date</th>\n",
              "      <th>exposure_start</th>\n",
              "      <th>exposure_end</th>\n",
              "      <th>visiting Wuhan</th>\n",
              "      <th>from Wuhan</th>\n",
              "      <th>death</th>\n",
              "      <th>recovered</th>\n",
              "      <th>symptom</th>\n",
              "      <th>source</th>\n",
              "      <th>link</th>\n",
              "    </tr>\n",
              "  </thead>\n",
              "  <tbody>\n",
              "    <tr>\n",
              "      <th>0</th>\n",
              "      <td>1</td>\n",
              "      <td>NaN</td>\n",
              "      <td>1/20/2020</td>\n",
              "      <td>First confirmed imported COVID-19 pneumonia pa...</td>\n",
              "      <td>Shenzhen, Guangdong</td>\n",
              "      <td>China</td>\n",
              "      <td>male</td>\n",
              "      <td>66.0</td>\n",
              "      <td>01/03/20</td>\n",
              "      <td>0.0</td>\n",
              "      <td>01/11/20</td>\n",
              "      <td>12/29/2019</td>\n",
              "      <td>01/04/20</td>\n",
              "      <td>1</td>\n",
              "      <td>0.0</td>\n",
              "      <td>0</td>\n",
              "      <td>0</td>\n",
              "      <td>NaN</td>\n",
              "      <td>Shenzhen Municipal Health Commission</td>\n",
              "      <td>http://wjw.sz.gov.cn/wzx/202001/t20200120_1898...</td>\n",
              "    </tr>\n",
              "    <tr>\n",
              "      <th>1</th>\n",
              "      <td>2</td>\n",
              "      <td>NaN</td>\n",
              "      <td>1/20/2020</td>\n",
              "      <td>First confirmed imported COVID-19 pneumonia pa...</td>\n",
              "      <td>Shanghai</td>\n",
              "      <td>China</td>\n",
              "      <td>female</td>\n",
              "      <td>56.0</td>\n",
              "      <td>1/15/2020</td>\n",
              "      <td>0.0</td>\n",
              "      <td>1/15/2020</td>\n",
              "      <td>NaN</td>\n",
              "      <td>01/12/20</td>\n",
              "      <td>0</td>\n",
              "      <td>1.0</td>\n",
              "      <td>0</td>\n",
              "      <td>0</td>\n",
              "      <td>NaN</td>\n",
              "      <td>Official Weibo of Shanghai Municipal Health Co...</td>\n",
              "      <td>https://www.weibo.com/2372649470/IqogQhgfa?fro...</td>\n",
              "    </tr>\n",
              "    <tr>\n",
              "      <th>2</th>\n",
              "      <td>3</td>\n",
              "      <td>NaN</td>\n",
              "      <td>1/21/2020</td>\n",
              "      <td>First confirmed imported cases in Zhejiang: pa...</td>\n",
              "      <td>Zhejiang</td>\n",
              "      <td>China</td>\n",
              "      <td>male</td>\n",
              "      <td>46.0</td>\n",
              "      <td>01/04/20</td>\n",
              "      <td>0.0</td>\n",
              "      <td>1/17/2020</td>\n",
              "      <td>NaN</td>\n",
              "      <td>01/03/20</td>\n",
              "      <td>0</td>\n",
              "      <td>1.0</td>\n",
              "      <td>0</td>\n",
              "      <td>0</td>\n",
              "      <td>NaN</td>\n",
              "      <td>Health Commission of Zhejiang Province</td>\n",
              "      <td>http://www.zjwjw.gov.cn/art/2020/1/21/art_1202...</td>\n",
              "    </tr>\n",
              "  </tbody>\n",
              "</table>\n",
              "</div>"
            ],
            "text/plain": [
              "   id  ...                                               link\n",
              "0   1  ...  http://wjw.sz.gov.cn/wzx/202001/t20200120_1898...\n",
              "1   2  ...  https://www.weibo.com/2372649470/IqogQhgfa?fro...\n",
              "2   3  ...  http://www.zjwjw.gov.cn/art/2020/1/21/art_1202...\n",
              "\n",
              "[3 rows x 20 columns]"
            ]
          },
          "metadata": {
            "tags": []
          },
          "execution_count": 75
        }
      ]
    },
    {
      "cell_type": "markdown",
      "metadata": {
        "id": "dAH0DLzZ3MR6"
      },
      "source": [
        "###What percentage of people who tested positive were from Wuhan or were visiting Wuhan?"
      ]
    },
    {
      "cell_type": "code",
      "metadata": {
        "id": "dtY5j_Ioy3CA",
        "outputId": "1cf58ada-c7c7-435f-f4b8-9a381b854bb0",
        "colab": {
          "base_uri": "https://localhost:8080/"
        }
      },
      "source": [
        "#Fill NA values in 'from Wuhan' column\n",
        "print(len(line_list_data))\n",
        "print(line_list_data['from Wuhan'].unique())\n",
        "print(line_list_data['from Wuhan'].isnull().sum())\n",
        "print(line_list_data['from Wuhan'].sum())\n",
        "#Since sum is 156, we know there are 156 values with 1 in 1085 values\n",
        "#Since majority values are 0, we fill the 4 na values with 0\n",
        "line_list_data['from Wuhan'] = line_list_data['from Wuhan'].fillna(0)"
      ],
      "execution_count": 49,
      "outputs": [
        {
          "output_type": "stream",
          "text": [
            "1085\n",
            "[ 0.  1. nan]\n",
            "4\n",
            "156.0\n"
          ],
          "name": "stdout"
        }
      ]
    },
    {
      "cell_type": "code",
      "metadata": {
        "id": "0T8_h46G1f8c",
        "outputId": "d7a4c1c1-211b-4b3b-924f-55dc1ed70a75",
        "colab": {
          "base_uri": "https://localhost:8080/"
        }
      },
      "source": [
        "print(\"from Wuhan \",int(line_list_data['from Wuhan'].sum()))\n",
        "print(\"visiting Wuhan \",line_list_data['visiting Wuhan'].sum())\n",
        "\n",
        "#common people in both columns\n",
        "count = 0\n",
        "for i in range(len(line_list_data)):\n",
        "  if line_list_data['from Wuhan'][i] == 1 and line_list_data['visiting Wuhan'][i] == 1:\n",
        "    count +=1\n",
        "print(\"Common to both \",count)\n",
        "\n",
        "print(\"Percentage of people \",np.round((line_list_data['from Wuhan'].sum() + line_list_data['visiting Wuhan'].sum() - count)/len(line_list_data)*100,2))"
      ],
      "execution_count": 73,
      "outputs": [
        {
          "output_type": "stream",
          "text": [
            "from Wuhan  156\n",
            "visiting Wuhan  192\n",
            "Common to both  1\n",
            "Percentage of people  31.98\n"
          ],
          "name": "stdout"
        }
      ]
    },
    {
      "cell_type": "code",
      "metadata": {
        "id": "3kATGD_03X77"
      },
      "source": [
        ""
      ],
      "execution_count": null,
      "outputs": []
    }
  ]
}